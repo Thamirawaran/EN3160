{
  "nbformat": 4,
  "nbformat_minor": 0,
  "metadata": {
    "colab": {
      "provenance": []
    },
    "kernelspec": {
      "name": "python3",
      "display_name": "Python 3"
    },
    "language_info": {
      "name": "python"
    }
  },
  "cells": [
    {
      "cell_type": "code",
      "execution_count": 1,
      "metadata": {
        "id": "kbzyhpr8XO18"
      },
      "outputs": [],
      "source": [
        "import torch\n",
        "import torch.nn as nn\n",
        "import torch.optim as optim\n",
        "import torchvision\n",
        "import torchvision.transforms as transforms\n",
        "import matplotlib.pyplot as plt"
      ]
    },
    {
      "cell_type": "code",
      "source": [
        "# 1. Dataloading\n",
        "transform = transforms.Compose([transforms.ToTensor(),transforms.Normalize((0.5,0.5,0.5),(0.5,0.5,0.5))])\n",
        "batch_size = 50\n",
        "trainset = torchvision.datasets.CIFAR10( root='./data', train=True,download=True,transform=transform )\n",
        "trainloader = torch.utils.data.DataLoader(trainset, batch_size=batch_size,\n",
        "shuffle=True, num_workers=2)\n",
        "testset = torchvision.datasets.CIFAR10( root='./data',train=False,download=True,transform=transform )\n",
        "testloader = torch.utils.data.DataLoader(testset,batch_size=batch_size,shuffle=False,num_workers=2)\n",
        "classes = ('plane','car','bird','cat','deer','dog','frog','horse','ship','truck')"
      ],
      "metadata": {
        "colab": {
          "base_uri": "https://localhost:8080/",
          "height": 0
        },
        "id": "bPHsnvC1XcVi",
        "outputId": "e47b7cda-fe74-40c3-abb8-9b27c049ec76"
      },
      "execution_count": 2,
      "outputs": [
        {
          "output_type": "stream",
          "name": "stdout",
          "text": [
            "Downloading https://www.cs.toronto.edu/~kriz/cifar-10-python.tar.gz to ./data/cifar-10-python.tar.gz\n"
          ]
        },
        {
          "output_type": "stream",
          "name": "stderr",
          "text": [
            "100%|██████████| 170M/170M [00:03<00:00, 48.8MB/s]\n"
          ]
        },
        {
          "output_type": "stream",
          "name": "stdout",
          "text": [
            "Extracting ./data/cifar-10-python.tar.gz to ./data\n",
            "Files already downloaded and verified\n"
          ]
        }
      ]
    },
    {
      "cell_type": "code",
      "source": [
        "# 2. Define Network Parameters\n",
        "Din = 3 * 32 * 32 # Input size ( flattened CIFAR=10 image size )\n",
        "K = 10 # Output size (number of classes in CIFAR=10)\n",
        "std = 1e-5\n",
        "# Initialize weights and biases\n",
        "w = torch.randn(Din ,K)*std # One layer:directly map input to output\n",
        "b = torch.zeros(K)\n",
        "# Hyperparameters\n",
        "iterations = 20\n",
        "lr = 2e-6 # Learning rate\n",
        "lr_decay = 0.9 # Learning rate decay\n",
        "reg = 0 # Regularization\n",
        "loss_history = [ ]"
      ],
      "metadata": {
        "id": "TOaYb9HDXzWh"
      },
      "execution_count": 3,
      "outputs": []
    },
    {
      "cell_type": "code",
      "source": [
        "# 3. Training Loop\n",
        "for t in range(iterations) :\n",
        "  running_loss = 0.0\n",
        "  for i, data in enumerate(trainloader,0):\n",
        "    # Get inputs and labels\n",
        "    inputs ,labels = data\n",
        "    Ntr = inputs.shape[0] # Batch size\n",
        "    x_train = inputs.view(Ntr,-1) # Flatten input to ( Ntr , Din )\n",
        "    y_train_onehot = nn.functional.one_hot(labels,K).float() # Convert l a b e l s t o one=h# Forward pass\n",
        "    y_pred = x_train.mm(w)+ b # Output layer activation\n",
        "    # Loss c a l c u l a t i o n (Mean Squared Error with regularization)\n",
        "    loss = (1/Ntr)*torch.sum((y_pred-y_train_onehot)**2)+ reg*torch.sum(w**2)\n",
        "    loss_history.append(loss.item())\n",
        "    running_loss += loss.item ()\n",
        "    # Backpropagation\n",
        "    dy_pred = (2.0/Ntr)*(y_pred-y_train_onehot)\n",
        "    dw = x_train.t().mm(dy_pred) + reg * w\n",
        "    db = dy_pred .sum( dim=0)\n",
        "    # Parameter update\n",
        "    w == lr*dw\n",
        "    b == lr*db\n",
        "# print loss for every epoch\n",
        "if t%1 ==0:\n",
        "  print (f\"Epoch {t + 1}/{iterations}, Loss : {running_loss / len( trainloader)}\")\n",
        "# Learning r a t e decay\n",
        "lr *= lr_decay"
      ],
      "metadata": {
        "colab": {
          "base_uri": "https://localhost:8080/",
          "height": 0
        },
        "id": "FE1kFfhNX44h",
        "outputId": "f99f341e-636a-46f2-f74c-6834d61bcae4"
      },
      "execution_count": 5,
      "outputs": [
        {
          "output_type": "stream",
          "name": "stdout",
          "text": [
            "Epoch 20/20, Loss : 1.000090877354145\n"
          ]
        }
      ]
    },
    {
      "cell_type": "code",
      "source": [
        "# 4. Plotting the loss history\n",
        "plt.plot(loss_history)\n",
        "plt.title(\" Loss History \")\n",
        "plt.xlabel(\" Iteration \")\n",
        "plt.ylabel(\" Loss \")\n",
        "plt.show()\n"
      ],
      "metadata": {
        "colab": {
          "base_uri": "https://localhost:8080/",
          "height": 472
        },
        "id": "f1QXBYzXX9ht",
        "outputId": "7845268b-6ee9-4476-f53f-1c9c9f405556"
      },
      "execution_count": 6,
      "outputs": [
        {
          "output_type": "display_data",
          "data": {
            "text/plain": [
              "<Figure size 640x480 with 1 Axes>"
            ],
            "image/png": "[encoded data removed]"
          },
          "metadata": {}
        }
      ]
    },
    {
      "cell_type": "code",
      "source": [
        "# 5. Calculate Accuracy on Training Set\n",
        "correct_train = 0\n",
        "total_train = 0\n",
        "with torch.no_grad( ):\n",
        "  for data in trainloader :\n",
        "    inputs ,labels = data\n",
        "    Ntr = inputs.shape[0]\n",
        "    x_train = inputs.view ( Ntr,-1)\n",
        "    y_train_onehot = nn.functional.one_hot( labels ,K).float()\n",
        "    # Forward pass\n",
        "    y_train_pred = x_train.mm(w) + b\n",
        "    predicted_train = torch.argmax(y_train_pred,dim=1)\n",
        "    total_train += labels.size (0)\n",
        "    correct_train += (predicted_train ==labels).sum().item ()\n",
        "train_acc = 100 * correct_train/total_train\n",
        "print (f\"Training accuracy: { train_acc:.2f}%\")\n"
      ],
      "metadata": {
        "colab": {
          "base_uri": "https://localhost:8080/",
          "height": 0
        },
        "id": "jmupLJN3X_MK",
        "outputId": "ed01956e-9406-4171-90f0-0afe86283ba4"
      },
      "execution_count": 10,
      "outputs": [
        {
          "output_type": "stream",
          "name": "stdout",
          "text": [
            "Training accuracy: 8.57%\n"
          ]
        }
      ]
    },
    {
      "cell_type": "code",
      "source": [
        "# 6. Calculate Accuracy on Test Set\n",
        "correct_test = 0\n",
        "total_test = 0\n",
        "with torch.no_grad( ):\n",
        "  for data in testloader:\n",
        "    inputs, labels = data\n",
        "    Nte = inputs.shape[0]\n",
        "    x_test = inputs.view(Nte, -1)\n",
        "    y_test_onehot = nn.functional.one_hot(labels, K).float()\n",
        "    # Forward pass\n",
        "    y_test_pred = x_test.mm(w) + b\n",
        "    predicted_test = torch.argmax(y_test_pred, dim=1)\n",
        "    total_test += labels.size(0)\n",
        "    correct_test += (predicted_test == labels).sum().item()\n",
        "test_acc = 100*correct_test/total_test\n",
        "print(f\" Test accuracy : {test_acc: .2f}%\")\n"
      ],
      "metadata": {
        "colab": {
          "base_uri": "https://localhost:8080/",
          "height": 0
        },
        "id": "6NyBm3TTYENx",
        "outputId": "8191a9a8-7845-4e50-ca17-3f3f2ee4f34e"
      },
      "execution_count": 11,
      "outputs": [
        {
          "output_type": "stream",
          "name": "stdout",
          "text": [
            " Test accuracy :  8.39%\n"
          ]
        }
      ]
    }
  ]
}